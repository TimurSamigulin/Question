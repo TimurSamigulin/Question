{
 "cells": [
  {
   "cell_type": "code",
   "execution_count": 1,
   "metadata": {
    "ExecuteTime": {
     "end_time": "2021-05-20T14:10:05.520278Z",
     "start_time": "2021-05-20T14:10:05.244436Z"
    }
   },
   "outputs": [],
   "source": [
    "import requests\n",
    "import re\n",
    "import logging\n",
    "import io\n",
    "\n",
    "from razdel import sentenize\n",
    "from typing import Union\n",
    "from bs4 import BeautifulSoup"
   ]
  },
  {
   "cell_type": "markdown",
   "metadata": {},
   "source": [
    "Формируем структуру логов"
   ]
  },
  {
   "cell_type": "code",
   "execution_count": 2,
   "metadata": {
    "ExecuteTime": {
     "end_time": "2021-05-20T14:10:05.600255Z",
     "start_time": "2021-05-20T14:10:05.589255Z"
    }
   },
   "outputs": [],
   "source": [
    "logging.basicConfig(level=logging.DEBUG, \n",
    "                    format='%(asctime)s %(name)s %(levelname)s:%(message)s')\n",
    "logger = logging.getLogger(__name__)"
   ]
  },
  {
   "cell_type": "markdown",
   "metadata": {},
   "source": [
    "Формируем гугл запрос"
   ]
  },
  {
   "cell_type": "code",
   "execution_count": 3,
   "metadata": {
    "ExecuteTime": {
     "end_time": "2021-05-20T14:10:05.911271Z",
     "start_time": "2021-05-20T14:10:05.888627Z"
    }
   },
   "outputs": [],
   "source": [
    "class Questions(object):\n",
    "    def __init__(self):\n",
    "        logger.info('Инициализация класса Question')\n",
    "\n",
    "    def get_questions(self,\n",
    "                      key: Union[str, list],\n",
    "                      count: Union[int, list],\n",
    "                      file_path: str,\n",
    "                      query: Union[str, list] = None):\n",
    "        '''\n",
    "            Метод возвращает список вопросов для собеседования \n",
    "\n",
    "            Parameters:\n",
    "            key: Union[str, list[str]] -- Навыки, профессии, для которых мы ищем вопросы\n",
    "            count: Union[int, list[int]] -- Количество необходимых вопросов \n",
    "                                            для каждого навыка, если передан int, то \n",
    "                                            используется общее для всех количество.\n",
    "            file_path: str -- путь до директории, куда сохранить результаты\n",
    "            query: Union[str, list[str]] = None -- можно самому передать нужные запросы,\n",
    "                                                а не использовать запрос по умолчанию.\n",
    "                                                Формируйте запрос полностью с использованием\n",
    "                                                key. \n",
    "\n",
    "\n",
    "        '''\n",
    "\n",
    "        coef_dop_count = 0.1  # Коэффицент для увелечения кол-ва count\n",
    "\n",
    "        if type(key) == str:\n",
    "            key = [key]\n",
    "\n",
    "        if type(count) == int:\n",
    "            count = count + count * 0.1\n",
    "            count = [count] * len(key)\n",
    "\n",
    "        if len(key) != len(count):\n",
    "            logger.error('key != count. key - {}, count - {}'.format(\n",
    "                len(key), len(count)))\n",
    "\n",
    "        if query:\n",
    "            if type(query) == str:\n",
    "                query = [query] * len(key)\n",
    "            for index, q in enumerate(query):\n",
    "                if not re.search('{}', q):\n",
    "                    query[index] += ' {}'\n",
    "                    logger.info('Добавили {} в запрос')\n",
    "                \n",
    "                query[index] = query[index].format(key[index])\n",
    "\n",
    "            q = query\n",
    "        else:\n",
    "            q = ['вопросы для собеседования {}'.format(skill) for skill in key]\n",
    "\n",
    "        if len(key) != len(q):\n",
    "            logger.error('key != query. key - {}, count - {}'.format(\n",
    "                len(key), len(q)))\n",
    "\n",
    "        for index, skill in enumerate(key):\n",
    "\n",
    "            count_quest = 0\n",
    "            start = 0 # позиция с какого сайта начинается видача в гугл-запросе\n",
    "\n",
    "            all_question = []\n",
    "\n",
    "            while len(all_question) < count[index]:\n",
    "                sites = self._get_site(q[index], start) # получаем сайты из гугл-запроса\n",
    "                print(q)\n",
    "                question = self._get_quest_from_sites(sites) # парсим вопросы с сайта\n",
    "                count_quest += len(question)\n",
    "                all_question += question\n",
    "                start += 10\n",
    "\n",
    "            self._write_quest(skill, file_path, all_question) \n",
    "\n",
    "    def _write_quest(self, skill, file_path, all_question):\n",
    "        '''\n",
    "            Метод для записи вопросов в файл\n",
    "            \n",
    "            Parameters:\n",
    "            skill -- профессия \n",
    "            file_path -- путь до директории \n",
    "            all_question -- список вопросов\n",
    "        '''\n",
    "        path = f'{file_path}\\\\{skill}.txt'\n",
    "\n",
    "        f = io.open(path, mode='w', encoding='utf-8')\n",
    "\n",
    "        for quest in all_question:\n",
    "            f.write(quest + '\\n')\n",
    "\n",
    "        f.close()\n",
    "\n",
    "    def _get_site(self, q: str, start: int = 0) -> list:\n",
    "        '''\n",
    "            Метод возвращает списков url с гугл запроса\n",
    "\n",
    "            Parameters:\n",
    "            q -- Гугл запрос\n",
    "            start -- Номер начального сайта        \n",
    "\n",
    "        '''\n",
    "\n",
    "        base_url = 'https://www.google.com/search?q={}&start={}'.format(\n",
    "            q, start)\n",
    "        \n",
    "        try:\n",
    "            responce = requests.get(base_url)\n",
    "        except OSError:\n",
    "            logger.exception(f'OSError: {base_url}')\n",
    "        \n",
    "        soup = BeautifulSoup(responce.text, 'lxml')\n",
    "\n",
    "        with_quest = []\n",
    "        \n",
    "        # Ищем нужные url и очищаем их\n",
    "        for link in soup.find_all('a'):\n",
    "            if link.get('href').startswith(\n",
    "                    '/url') and 'google.com' not in link.get('href'):\n",
    "                link = link.get('href')[7:]\n",
    "                link = link[:re.search('&sa=', link).span()[0]]\n",
    "                with_quest.append(link)\n",
    "\n",
    "        return with_quest\n",
    "\n",
    "    def _preprocess(self, sent: str):\n",
    "        '''\n",
    "            Метод удаляет из строки лишние символы переноса, табуляции и пробела\n",
    "            и воврашает ее\n",
    "\n",
    "            Parameters:\n",
    "            sent -- строка, которую нужно преобразовать \n",
    "        \n",
    "        '''\n",
    "        return re.sub('[\\t\\n ]+', ' ', sent).strip()\n",
    "\n",
    "    def _get_quest_from_sites(self, sites: list):\n",
    "        '''\n",
    "            Парсит вопросы с переданных сайтов.\n",
    "            \n",
    "            Parameters:\n",
    "            sites -- лист url сайтов\n",
    "        '''\n",
    "        \n",
    "        result = []\n",
    "\n",
    "        for url in sites:\n",
    "            try:\n",
    "                responce = requests.get(url)\n",
    "            except OSError:\n",
    "                logger.exception(f'OSError: {url}')\n",
    "            soup = BeautifulSoup(responce.text, 'lxml')\n",
    "            text = soup.get_text()\n",
    "\n",
    "            quest = list(sentenize(text))\n",
    "            questions = [sent.text for sent in quest]\n",
    "\n",
    "            for index, sent in enumerate(questions):\n",
    "                sent = self._preprocess(sent)\n",
    "                if '?' in sent:\n",
    "                    if len(sent.split()) > 2:\n",
    "                        result.append(sent)\n",
    "                    else:\n",
    "                        result.append(questions[index - 1] + ' ' + sent)\n",
    "\n",
    "        return result"
   ]
  },
  {
   "cell_type": "code",
   "execution_count": 4,
   "metadata": {
    "ExecuteTime": {
     "end_time": "2021-05-20T14:10:22.127972Z",
     "start_time": "2021-05-20T14:10:06.038423Z"
    }
   },
   "outputs": [
    {
     "name": "stderr",
     "output_type": "stream",
     "text": [
      "2021-05-20 17:10:06,039 __main__ INFO:Инициализация класса Question\n",
      "2021-05-20 17:10:06,046 urllib3.connectionpool DEBUG:Starting new HTTPS connection (1): www.google.com:443\n",
      "2021-05-20 17:10:06,486 urllib3.connectionpool DEBUG:https://www.google.com:443 \"GET /search?q=%D0%B2%D0%BE%D0%BF%D1%80%D0%BE%D1%81%D1%8B%20%D0%B4%D0%BB%D1%8F%20%D1%81%D0%BE%D0%B1%D0%B5%D1%81%D0%B5%D0%B4%D0%BE%D0%B2%D0%B0%D0%BD%D0%B8%D1%8F%20c++&start=0 HTTP/1.1\" 200 None\n",
      "2021-05-20 17:10:06,985 urllib3.connectionpool DEBUG:Starting new HTTPS connection (1): itanddigital.ru:443\n",
      "2021-05-20 17:10:07,079 urllib3.connectionpool DEBUG:https://itanddigital.ru:443 \"GET /interviewnet HTTP/1.1\" 200 None\n",
      "2021-05-20 17:10:07,114 urllib3.connectionpool DEBUG:Starting new HTTPS connection (1): itanddigital.ru:443\n",
      "2021-05-20 17:10:07,171 urllib3.connectionpool DEBUG:https://itanddigital.ru:443 \"GET /interviewc HTTP/1.1\" 200 None\n"
     ]
    },
    {
     "name": "stdout",
     "output_type": "stream",
     "text": [
      "['вопросы для собеседования c++', 'вопросы для собеседования java']\n"
     ]
    },
    {
     "name": "stderr",
     "output_type": "stream",
     "text": [
      "2021-05-20 17:10:07,207 urllib3.connectionpool DEBUG:Starting new HTTPS connection (1): blog2k.ru:443\n",
      "2021-05-20 17:10:07,766 urllib3.connectionpool DEBUG:https://blog2k.ru:443 \"GET /archives/3091 HTTP/1.1\" 200 None\n",
      "2021-05-20 17:10:07,838 urllib3.connectionpool DEBUG:Starting new HTTPS connection (1): qna.habr.com:443\n",
      "2021-05-20 17:10:09,157 urllib3.connectionpool DEBUG:https://qna.habr.com:443 \"GET /q/286852 HTTP/1.1\" 200 None\n",
      "2021-05-20 17:10:09,197 urllib3.connectionpool DEBUG:Starting new HTTPS connection (1): techrocks.ru:443\n",
      "2021-05-20 17:10:09,315 urllib3.connectionpool DEBUG:https://techrocks.ru:443 \"GET /2019/03/01/popular-interview-questions-on-c-plus-plus/ HTTP/1.1\" 200 None\n",
      "2021-05-20 17:10:09,351 urllib3.connectionpool DEBUG:Starting new HTTPS connection (1): proglib.io:443\n",
      "2021-05-20 17:10:09,737 urllib3.connectionpool DEBUG:https://proglib.io:443 \"GET /p/tricky-challenges-cpp HTTP/1.1\" 200 None\n",
      "2021-05-20 17:10:09,869 urllib3.connectionpool DEBUG:Starting new HTTPS connection (1): bool.dev:443\n",
      "2021-05-20 17:10:10,235 urllib3.connectionpool DEBUG:https://bool.dev:443 \"GET /blog/detail/tipichnye-voprosy-na-sobesedovanii-po-cplusplus HTTP/1.1\" 200 11390\n",
      "2021-05-20 17:10:10,268 urllib3.connectionpool DEBUG:Starting new HTTPS connection (1): chipenable.ru:443\n",
      "2021-05-20 17:10:10,686 urllib3.connectionpool DEBUG:https://chipenable.ru:443 \"GET /index.php/programming-avr/68-si-test-0x10-luchshih-voprosov-dlya-teh-kto-hotel-by-stat-programmistom-vstraivaemyh-sistem.html HTTP/1.1\" 200 None\n",
      "2021-05-20 17:10:10,748 urllib3.connectionpool DEBUG:Starting new HTTP connection (1): www.quizful.net:80\n",
      "2021-05-20 17:10:10,921 urllib3.connectionpool DEBUG:http://www.quizful.net:80 \"GET /interview/cpp HTTP/1.1\" 200 18543\n",
      "2021-05-20 17:10:10,983 urllib3.connectionpool DEBUG:Starting new HTTP connection (1): knzsoft.blogspot.com:80\n",
      "2021-05-20 17:10:11,412 urllib3.connectionpool DEBUG:http://knzsoft.blogspot.com:80 \"GET /2012/08/blog-post.html HTTP/1.1\" 200 21062\n",
      "2021-05-20 17:10:11,518 urllib3.connectionpool DEBUG:Starting new HTTPS connection (1): www.google.com:443\n",
      "2021-05-20 17:10:13,377 urllib3.connectionpool DEBUG:https://www.google.com:443 \"GET /search?q=%D0%B2%D0%BE%D0%BF%D1%80%D0%BE%D1%81%D1%8B%20%D0%B4%D0%BB%D1%8F%20%D1%81%D0%BE%D0%B1%D0%B5%D1%81%D0%B5%D0%B4%D0%BE%D0%B2%D0%B0%D0%BD%D0%B8%D1%8F%20java&start=0 HTTP/1.1\" 200 None\n",
      "2021-05-20 17:10:13,870 urllib3.connectionpool DEBUG:Starting new HTTPS connection (1): github.com:443\n"
     ]
    },
    {
     "name": "stdout",
     "output_type": "stream",
     "text": [
      "['вопросы для собеседования c++', 'вопросы для собеседования java']\n"
     ]
    },
    {
     "name": "stderr",
     "output_type": "stream",
     "text": [
      "2021-05-20 17:10:14,402 urllib3.connectionpool DEBUG:https://github.com:443 \"GET /enhorse/java-interview HTTP/1.1\" 200 None\n",
      "2021-05-20 17:10:14,647 urllib3.connectionpool DEBUG:Starting new HTTPS connection (1): github.com:443\n",
      "2021-05-20 17:10:15,227 urllib3.connectionpool DEBUG:https://github.com:443 \"GET /enhorse/java-interview/blob/master/core.md HTTP/1.1\" 200 None\n",
      "2021-05-20 17:10:15,492 urllib3.connectionpool DEBUG:Starting new HTTPS connection (1): github.com:443\n",
      "2021-05-20 17:10:15,988 urllib3.connectionpool DEBUG:https://github.com:443 \"GET /enhorse/java-interview/blob/master/java8.md HTTP/1.1\" 200 None\n",
      "2021-05-20 17:10:16,224 urllib3.connectionpool DEBUG:Starting new HTTPS connection (1): github.com:443\n",
      "2021-05-20 17:10:16,704 urllib3.connectionpool DEBUG:https://github.com:443 \"GET /enhorse/java-interview/blob/master/io.md HTTP/1.1\" 200 None\n",
      "2021-05-20 17:10:16,811 urllib3.connectionpool DEBUG:Starting new HTTPS connection (1): github.com:443\n",
      "2021-05-20 17:10:17,345 urllib3.connectionpool DEBUG:https://github.com:443 \"GET /enhorse/java-interview/blob/master/concurrency.md HTTP/1.1\" 200 None\n",
      "2021-05-20 17:10:17,577 urllib3.connectionpool DEBUG:Starting new HTTPS connection (1): jsehelper.blogspot.com:443\n",
      "2021-05-20 17:10:17,788 urllib3.connectionpool DEBUG:https://jsehelper.blogspot.com:443 \"GET /2016/01/blog-post_59.html HTTP/1.1\" 200 None\n",
      "2021-05-20 17:10:18,290 urllib3.connectionpool DEBUG:Starting new HTTPS connection (1): habr.com:443\n",
      "2021-05-20 17:10:18,739 urllib3.connectionpool DEBUG:https://habr.com:443 \"GET /ru/post/485678/ HTTP/1.1\" 200 None\n",
      "2021-05-20 17:10:18,983 urllib3.connectionpool DEBUG:Starting new HTTPS connection (1): javarush.ru:443\n",
      "2021-05-20 17:10:19,734 urllib3.connectionpool DEBUG:https://javarush.ru:443 \"GET /groups/posts/2590-top-50-java-core-voprosov-i-otvetov-na-sobesedovanii-chastjh-1 HTTP/1.1\" 200 None\n",
      "2021-05-20 17:10:19,839 urllib3.connectionpool DEBUG:Starting new HTTPS connection (1): javastudy.ru:443\n",
      "2021-05-20 17:10:20,657 urllib3.connectionpool DEBUG:https://javastudy.ru:443 \"GET /interview/list-of-question-java-interview/ HTTP/1.1\" 200 None\n",
      "2021-05-20 17:10:20,691 urllib3.connectionpool DEBUG:Starting new HTTPS connection (1): javastudy.ru:443\n",
      "2021-05-20 17:10:21,320 urllib3.connectionpool DEBUG:https://javastudy.ru:443 \"GET /reference/interview/ HTTP/1.1\" 200 None\n",
      "2021-05-20 17:10:21,338 urllib3.connectionpool DEBUG:Starting new HTTPS connection (1): itvdn.com:443\n",
      "2021-05-20 17:10:21,586 urllib3.connectionpool DEBUG:https://itvdn.com:443 \"GET /ru/blog/article/jjd HTTP/1.1\" 200 19813\n",
      "2021-05-20 17:10:21,649 urllib3.connectionpool DEBUG:Starting new HTTP connection (1): java-online.ru:80\n",
      "2021-05-20 17:10:21,713 urllib3.connectionpool DEBUG:http://java-online.ru:80 \"GET /java-interview.xhtml HTTP/1.1\" 200 7726\n",
      "2021-05-20 17:10:21,726 urllib3.connectionpool DEBUG:Starting new HTTPS connection (1): tproger.ru:443\n",
      "2021-05-20 17:10:21,920 urllib3.connectionpool DEBUG:https://tproger.ru:443 \"GET /articles/7-prakticheskih-zadanij-s-sobesedovanija-na-poziciju-junior-java-developer/ HTTP/1.1\" 200 None\n",
      "2021-05-20 17:10:21,966 urllib3.connectionpool DEBUG:Starting new HTTPS connection (1): javaops.ru:443\n",
      "2021-05-20 17:10:22,100 urllib3.connectionpool DEBUG:https://javaops.ru:443 \"GET /view/test HTTP/1.1\" 200 None\n"
     ]
    }
   ],
   "source": [
    "if __name__ == '__main__':\n",
    "    quest = Questions()\n",
    "    quest.get_questions(key=['c++', 'java'], count=10, file_path=r'')"
   ]
  }
 ],
 "metadata": {
  "kernelspec": {
   "display_name": "Python 3",
   "language": "python",
   "name": "python3"
  },
  "language_info": {
   "codemirror_mode": {
    "name": "ipython",
    "version": 3
   },
   "file_extension": ".py",
   "mimetype": "text/x-python",
   "name": "python",
   "nbconvert_exporter": "python",
   "pygments_lexer": "ipython3",
   "version": "3.8.5"
  },
  "toc": {
   "base_numbering": 1,
   "nav_menu": {},
   "number_sections": true,
   "sideBar": true,
   "skip_h1_title": false,
   "title_cell": "Table of Contents",
   "title_sidebar": "Contents",
   "toc_cell": false,
   "toc_position": {},
   "toc_section_display": true,
   "toc_window_display": false
  },
  "varInspector": {
   "cols": {
    "lenName": 16,
    "lenType": 16,
    "lenVar": 40
   },
   "kernels_config": {
    "python": {
     "delete_cmd_postfix": "",
     "delete_cmd_prefix": "del ",
     "library": "var_list.py",
     "varRefreshCmd": "print(var_dic_list())"
    },
    "r": {
     "delete_cmd_postfix": ") ",
     "delete_cmd_prefix": "rm(",
     "library": "var_list.r",
     "varRefreshCmd": "cat(var_dic_list()) "
    }
   },
   "types_to_exclude": [
    "module",
    "function",
    "builtin_function_or_method",
    "instance",
    "_Feature"
   ],
   "window_display": false
  }
 },
 "nbformat": 4,
 "nbformat_minor": 4
}
